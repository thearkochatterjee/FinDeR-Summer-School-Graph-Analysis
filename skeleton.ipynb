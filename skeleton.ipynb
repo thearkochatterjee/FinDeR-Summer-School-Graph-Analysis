{
 "cells": [
  {
   "cell_type": "markdown",
   "id": "c0cc0a87",
   "metadata": {},
   "source": [
    "# VAE for Graphs"
   ]
  },
  {
   "cell_type": "markdown",
   "id": "5ee2a947",
   "metadata": {},
   "source": [
    "Variational Autoencoder for small Graphs"
   ]
  },
  {
   "cell_type": "code",
   "execution_count": 1,
   "id": "050b002b",
   "metadata": {},
   "outputs": [],
   "source": [
    "# Generating Graphs\n",
    "import networkx as nx\n",
    "import matplotlib.pyplot as plt\n",
    "import numpy as np\n",
    "import scipy"
   ]
  },
  {
   "cell_type": "code",
   "execution_count": 8,
   "id": "ddb6171a",
   "metadata": {},
   "outputs": [],
   "source": [
    "def GenerateGraphs(num_graphs: int, num_nodes: int):\n",
    "    \"\"\"\n",
    "    Generating the Graph Data for a randomized category.\n",
    "    @params:\n",
    "    num_graph: number of graphs to generate\n",
    "    num_nodes: number of nodes per graph\n",
    "    \"\"\"\n",
    "    # Here are the categories of graph generators\n",
    "    types_of_graphs = [\n",
    "    lambda n: nx.complete_graph(n),\n",
    "    lambda n: nx.turan_graph(n,3),\n",
    "    lambda n: nx.newman_watts_strogatz_graph(n,3,0.2),\n",
    "    lambda n: nx.ladder_graph(int(n/2)),\n",
    "    lambda n: nx.barabasi_albert_graph(n,3)\n",
    "    ]\n",
    "        \n",
    "    # We will sample them with different weights.\n",
    "    # Clusters will have uneven size\n",
    "    weights = np.random.rand(len(types_of_graphs));\n",
    "    weights /= sum(weights)\n",
    "\n",
    "    # Now generate the graphs\n",
    "    graphs= []\n",
    "    true_labels = []\n",
    "    for graph_index in np.random.choice(range(len(types_of_graphs)), num_graphs, list(weights)):\n",
    "        graphs.append(types_of_graphs[graph_index](num_nodes))\n",
    "        true_labels.append(graph_index)\n",
    "    return graphs, true_labels"
   ]
  },
  {
   "cell_type": "code",
   "execution_count": 12,
   "id": "4173a0cd",
   "metadata": {},
   "outputs": [
    {
     "ename": "TypeError",
     "evalue": "'float' object is not iterable",
     "output_type": "error",
     "traceback": [
      "\u001b[0;31m---------------------------------------------------------------------------\u001b[0m",
      "\u001b[0;31mTypeError\u001b[0m                                 Traceback (most recent call last)",
      "File \u001b[0;32m/opt/anaconda3/lib/python3.9/site-packages/networkx/utils/decorators.py:243\u001b[0m, in \u001b[0;36mnodes_or_number.<locals>._nodes_or_number\u001b[0;34m(n)\u001b[0m\n\u001b[1;32m    242\u001b[0m \u001b[38;5;28;01mtry\u001b[39;00m:\n\u001b[0;32m--> 243\u001b[0m     nodes \u001b[38;5;241m=\u001b[39m \u001b[38;5;28mlist\u001b[39m(\u001b[38;5;28;43mrange\u001b[39;49m\u001b[43m(\u001b[49m\u001b[43mn\u001b[49m\u001b[43m)\u001b[49m)\n\u001b[1;32m    244\u001b[0m \u001b[38;5;28;01mexcept\u001b[39;00m \u001b[38;5;167;01mTypeError\u001b[39;00m:\n",
      "\u001b[0;31mTypeError\u001b[0m: 'float' object cannot be interpreted as an integer",
      "\nDuring handling of the above exception, another exception occurred:\n",
      "\u001b[0;31mTypeError\u001b[0m                                 Traceback (most recent call last)",
      "Input \u001b[0;32mIn [12]\u001b[0m, in \u001b[0;36m<cell line: 6>\u001b[0;34m()\u001b[0m\n\u001b[1;32m      3\u001b[0m num_graphs \u001b[38;5;241m=\u001b[39m \u001b[38;5;241m100\u001b[39m\n\u001b[1;32m      4\u001b[0m num_nodes_per_graph \u001b[38;5;241m=\u001b[39m \u001b[38;5;241m10\u001b[39m\n\u001b[0;32m----> 6\u001b[0m graphs, _ \u001b[38;5;241m=\u001b[39m \u001b[43mGenerateGraphs\u001b[49m\u001b[43m(\u001b[49m\u001b[38;5;28;43mint\u001b[39;49m\u001b[43m(\u001b[49m\u001b[43mnum_graphs\u001b[49m\u001b[43m)\u001b[49m\u001b[43m,\u001b[49m\u001b[38;5;28;43mint\u001b[39;49m\u001b[43m(\u001b[49m\u001b[43mnum_nodes_per_graph\u001b[49m\u001b[43m)\u001b[49m\u001b[43m)\u001b[49m\n",
      "Input \u001b[0;32mIn [8]\u001b[0m, in \u001b[0;36mGenerateGraphs\u001b[0;34m(num_graphs, num_nodes)\u001b[0m\n\u001b[1;32m     24\u001b[0m true_labels \u001b[38;5;241m=\u001b[39m []\n\u001b[1;32m     25\u001b[0m \u001b[38;5;28;01mfor\u001b[39;00m graph_index \u001b[38;5;129;01min\u001b[39;00m np\u001b[38;5;241m.\u001b[39mrandom\u001b[38;5;241m.\u001b[39mchoice(\u001b[38;5;28mrange\u001b[39m(\u001b[38;5;28mlen\u001b[39m(types_of_graphs)), num_graphs, \u001b[38;5;28mlist\u001b[39m(weights)):\n\u001b[0;32m---> 26\u001b[0m     graphs\u001b[38;5;241m.\u001b[39mappend(\u001b[43mtypes_of_graphs\u001b[49m\u001b[43m[\u001b[49m\u001b[43mgraph_index\u001b[49m\u001b[43m]\u001b[49m\u001b[43m(\u001b[49m\u001b[43mnum_nodes\u001b[49m\u001b[43m)\u001b[49m)\n\u001b[1;32m     27\u001b[0m     true_labels\u001b[38;5;241m.\u001b[39mappend(graph_index)\n\u001b[1;32m     28\u001b[0m \u001b[38;5;28;01mreturn\u001b[39;00m graphs, true_labels\n",
      "Input \u001b[0;32mIn [8]\u001b[0m, in \u001b[0;36mGenerateGraphs.<locals>.<lambda>\u001b[0;34m(n)\u001b[0m\n\u001b[1;32m      2\u001b[0m \u001b[38;5;124;03m\"\"\"\u001b[39;00m\n\u001b[1;32m      3\u001b[0m \u001b[38;5;124;03mGenerating the Graph Data for a randomized category.\u001b[39;00m\n\u001b[1;32m      4\u001b[0m \u001b[38;5;124;03m@params:\u001b[39;00m\n\u001b[1;32m      5\u001b[0m \u001b[38;5;124;03mnum_graph: number of graphs to generate\u001b[39;00m\n\u001b[1;32m      6\u001b[0m \u001b[38;5;124;03mnum_nodes: number of nodes per graph\u001b[39;00m\n\u001b[1;32m      7\u001b[0m \u001b[38;5;124;03m\"\"\"\u001b[39;00m\n\u001b[1;32m      8\u001b[0m \u001b[38;5;66;03m# Here are the categories of graph generators\u001b[39;00m\n\u001b[1;32m      9\u001b[0m types_of_graphs \u001b[38;5;241m=\u001b[39m [\n\u001b[1;32m     10\u001b[0m \u001b[38;5;28;01mlambda\u001b[39;00m n: nx\u001b[38;5;241m.\u001b[39mcomplete_graph(n),\n\u001b[1;32m     11\u001b[0m \u001b[38;5;28;01mlambda\u001b[39;00m n: nx\u001b[38;5;241m.\u001b[39mturan_graph(n,\u001b[38;5;241m3\u001b[39m),\n\u001b[1;32m     12\u001b[0m \u001b[38;5;28;01mlambda\u001b[39;00m n: nx\u001b[38;5;241m.\u001b[39mnewman_watts_strogatz_graph(n,\u001b[38;5;241m3\u001b[39m,\u001b[38;5;241m0.2\u001b[39m),\n\u001b[0;32m---> 13\u001b[0m \u001b[38;5;28;01mlambda\u001b[39;00m n: \u001b[43mnx\u001b[49m\u001b[38;5;241;43m.\u001b[39;49m\u001b[43mladder_graph\u001b[49m\u001b[43m(\u001b[49m\u001b[43mn\u001b[49m\u001b[38;5;241;43m/\u001b[39;49m\u001b[38;5;241;43m2\u001b[39;49m\u001b[43m)\u001b[49m,\n\u001b[1;32m     14\u001b[0m \u001b[38;5;28;01mlambda\u001b[39;00m n: nx\u001b[38;5;241m.\u001b[39mbarabasi_albert_graph(n,\u001b[38;5;241m3\u001b[39m)\n\u001b[1;32m     15\u001b[0m ]\n\u001b[1;32m     17\u001b[0m \u001b[38;5;66;03m# We will sample them with different weights.\u001b[39;00m\n\u001b[1;32m     18\u001b[0m \u001b[38;5;66;03m# Clusters will have uneven size\u001b[39;00m\n\u001b[1;32m     19\u001b[0m weights \u001b[38;5;241m=\u001b[39m np\u001b[38;5;241m.\u001b[39mrandom\u001b[38;5;241m.\u001b[39mrand(\u001b[38;5;28mlen\u001b[39m(types_of_graphs));\n",
      "File \u001b[0;32m/opt/anaconda3/lib/python3.9/site-packages/networkx/generators/classic.py:507\u001b[0m, in \u001b[0;36mladder_graph\u001b[0;34m(n, create_using)\u001b[0m\n\u001b[1;32m    498\u001b[0m \u001b[38;5;28;01mdef\u001b[39;00m \u001b[38;5;21mladder_graph\u001b[39m(n, create_using\u001b[38;5;241m=\u001b[39m\u001b[38;5;28;01mNone\u001b[39;00m):\n\u001b[1;32m    499\u001b[0m     \u001b[38;5;124;03m\"\"\"Returns the Ladder graph of length n.\u001b[39;00m\n\u001b[1;32m    500\u001b[0m \n\u001b[1;32m    501\u001b[0m \u001b[38;5;124;03m    This is two paths of n nodes, with\u001b[39;00m\n\u001b[0;32m   (...)\u001b[0m\n\u001b[1;32m    505\u001b[0m \n\u001b[1;32m    506\u001b[0m \u001b[38;5;124;03m    \"\"\"\u001b[39;00m\n\u001b[0;32m--> 507\u001b[0m     G \u001b[38;5;241m=\u001b[39m \u001b[43mempty_graph\u001b[49m\u001b[43m(\u001b[49m\u001b[38;5;241;43m2\u001b[39;49m\u001b[43m \u001b[49m\u001b[38;5;241;43m*\u001b[39;49m\u001b[43m \u001b[49m\u001b[43mn\u001b[49m\u001b[43m,\u001b[49m\u001b[43m \u001b[49m\u001b[43mcreate_using\u001b[49m\u001b[43m)\u001b[49m\n\u001b[1;32m    508\u001b[0m     \u001b[38;5;28;01mif\u001b[39;00m G\u001b[38;5;241m.\u001b[39mis_directed():\n\u001b[1;32m    509\u001b[0m         \u001b[38;5;28;01mraise\u001b[39;00m NetworkXError(\u001b[38;5;124m\"\u001b[39m\u001b[38;5;124mDirected Graph not supported\u001b[39m\u001b[38;5;124m\"\u001b[39m)\n",
      "File \u001b[0;32m<class 'networkx.utils.decorators.argmap'> compilation 4:3\u001b[0m, in \u001b[0;36margmap_empty_graph_1\u001b[0;34m(n, create_using, default)\u001b[0m\n\u001b[1;32m      1\u001b[0m \u001b[38;5;28;01mfrom\u001b[39;00m \u001b[38;5;21;01mcollections\u001b[39;00m \u001b[38;5;28;01mimport\u001b[39;00m defaultdict\n\u001b[1;32m      2\u001b[0m \u001b[38;5;28;01mfrom\u001b[39;00m \u001b[38;5;21;01mos\u001b[39;00m\u001b[38;5;21;01m.\u001b[39;00m\u001b[38;5;21;01mpath\u001b[39;00m \u001b[38;5;28;01mimport\u001b[39;00m splitext\n\u001b[0;32m----> 3\u001b[0m \u001b[38;5;28;01mfrom\u001b[39;00m \u001b[38;5;21;01mcontextlib\u001b[39;00m \u001b[38;5;28;01mimport\u001b[39;00m contextmanager\n\u001b[1;32m      4\u001b[0m \u001b[38;5;28;01mfrom\u001b[39;00m \u001b[38;5;21;01mpathlib\u001b[39;00m \u001b[38;5;28;01mimport\u001b[39;00m Path\n\u001b[1;32m      6\u001b[0m \u001b[38;5;28;01mimport\u001b[39;00m \u001b[38;5;21;01mnetworkx\u001b[39;00m \u001b[38;5;28;01mas\u001b[39;00m \u001b[38;5;21;01mnx\u001b[39;00m\n",
      "File \u001b[0;32m/opt/anaconda3/lib/python3.9/site-packages/networkx/utils/decorators.py:245\u001b[0m, in \u001b[0;36mnodes_or_number.<locals>._nodes_or_number\u001b[0;34m(n)\u001b[0m\n\u001b[1;32m    243\u001b[0m     nodes \u001b[38;5;241m=\u001b[39m \u001b[38;5;28mlist\u001b[39m(\u001b[38;5;28mrange\u001b[39m(n))\n\u001b[1;32m    244\u001b[0m \u001b[38;5;28;01mexcept\u001b[39;00m \u001b[38;5;167;01mTypeError\u001b[39;00m:\n\u001b[0;32m--> 245\u001b[0m     nodes \u001b[38;5;241m=\u001b[39m \u001b[38;5;28;43mtuple\u001b[39;49m\u001b[43m(\u001b[49m\u001b[43mn\u001b[49m\u001b[43m)\u001b[49m\n\u001b[1;32m    246\u001b[0m \u001b[38;5;28;01melse\u001b[39;00m:\n\u001b[1;32m    247\u001b[0m     \u001b[38;5;28;01mif\u001b[39;00m n \u001b[38;5;241m<\u001b[39m \u001b[38;5;241m0\u001b[39m:\n",
      "\u001b[0;31mTypeError\u001b[0m: 'float' object is not iterable"
     ]
    }
   ],
   "source": [
    "# generate a number of graphs\n",
    "\n",
    "num_graphs = 100\n",
    "num_nodes_per_graph = 10\n",
    "\n",
    "graphs, _ = GenerateGraphs(int(num_graphs),int(num_nodes_per_graph))"
   ]
  },
  {
   "cell_type": "code",
   "execution_count": 4,
   "id": "4b334b8e",
   "metadata": {},
   "outputs": [
    {
     "data": {
      "text/plain": [
       "[<networkx.classes.graph.Graph at 0x7f8fee2c2be0>,\n",
       " <networkx.classes.graph.Graph at 0x7f8fee2c2d30>,\n",
       " <networkx.classes.graph.Graph at 0x7f8fee2c2220>,\n",
       " <networkx.classes.graph.Graph at 0x7f8fee2c2e50>,\n",
       " <networkx.classes.graph.Graph at 0x7f8fee2c2160>,\n",
       " <networkx.classes.graph.Graph at 0x7f8fee2c2a60>,\n",
       " <networkx.classes.graph.Graph at 0x7f8fee2c2df0>,\n",
       " <networkx.classes.graph.Graph at 0x7f8fee2c2d90>,\n",
       " <networkx.classes.graph.Graph at 0x7f8fee2c29a0>,\n",
       " <networkx.classes.graph.Graph at 0x7f8fee2c2b80>]"
      ]
     },
     "execution_count": 4,
     "metadata": {},
     "output_type": "execute_result"
    }
   ],
   "source": [
    "graphs"
   ]
  },
  {
   "cell_type": "code",
   "execution_count": null,
   "id": "2a532686",
   "metadata": {},
   "outputs": [],
   "source": []
  }
 ],
 "metadata": {
  "kernelspec": {
   "display_name": "Python 3 (ipykernel)",
   "language": "python",
   "name": "python3"
  },
  "language_info": {
   "codemirror_mode": {
    "name": "ipython",
    "version": 3
   },
   "file_extension": ".py",
   "mimetype": "text/x-python",
   "name": "python",
   "nbconvert_exporter": "python",
   "pygments_lexer": "ipython3",
   "version": "3.9.12"
  }
 },
 "nbformat": 4,
 "nbformat_minor": 5
}
